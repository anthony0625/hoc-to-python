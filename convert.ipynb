{
 "cells": [
  {
   "cell_type": "markdown",
   "metadata": {},
   "source": [
    "from neuron import h\n",
    "soma = h.Section(name=\"soma\")\n",
    "h.psection()\n",
    "h.topology()"
   ]
  },
  {
   "cell_type": "markdown",
   "metadata": {},
   "source": [
    "fil = open(\"test.hoc\", \"r\")\n",
    "g = fil.readlines()\n",
    "fil.close()\n",
    "print(g)\n",
    "gn = []\n",
    "for s in range(len(g)):\n",
    "    gn.append(g[s].strip())\n",
    "print(gn)"
   ]
  },
  {
   "cell_type": "markdown",
   "metadata": {},
   "source": [
    "proc topol() {\n",
    "    hs\n",
    "}\n",
    "\n",
    "proc shape3d() {\n",
    "    hs\n",
    "}\n",
    "\n",
    "pt3dstyle(x,y,z,d)"
   ]
  },
  {
   "cell_type": "markdown",
   "metadata": {},
   "source": [
    "class cellObj(object):\n",
    "    def __init__(self):\n",
    "        hs\n",
    "    def create_sections(self):\n",
    "        hs\n",
    "    def build_topology(self):\n",
    "        hs\n",
    "    def define_geometry(self):\n",
    "        hs\n",
    "    def define_biophysics(self):\n",
    "        hs\n",
    "    def shape_3D(self):\n",
    "        hs\n",
    "    def set_position(self):\n",
    "        hs"
   ]
  },
  {
   "cell_type": "markdown",
   "metadata": {},
   "source": [
    "# Instructions"
   ]
  },
  {
   "cell_type": "markdown",
   "metadata": {},
   "source": [
    "Begin by filling out the parameters under basics. Proceed to run all cells in order.\n",
    "\n",
    "**Warning**: Run the noteboook in full (all cells) to prevent memory leaks."
   ]
  },
  {
   "cell_type": "markdown",
   "metadata": {},
   "source": [
    "# Basics"
   ]
  },
  {
   "cell_type": "code",
   "execution_count": 1,
   "metadata": {},
   "outputs": [
    {
     "data": {
      "text/plain": [
       "'\\ndef write_function(function_name, content):\\n    py_file.write(\"\\tdef \" + function_name + \"(self):\")\\n    \\n    for i in x:\\n        py_file.write(\"\\t\\t yes\")\\n'"
      ]
     },
     "execution_count": 1,
     "metadata": {},
     "output_type": "execute_result"
    }
   ],
   "source": [
    "hoc_filename = \"test.hoc\"\n",
    "py_filename = \"hs.py\"\n",
    "error_log_filename = \"\" #default if left empty is py_filename_log.txt\n",
    "\n",
    "'''\n",
    "def write_function(function_name, content):\n",
    "    py_file.write(\"\\tdef \" + function_name + \"(self):\")\n",
    "    if function_name == \"topol\":\n",
    "        for i in x:\n",
    "            py_file.write(\"\\t\\t yes\")\n",
    "    elif\n",
    "        \n",
    "def write_error():\n",
    "    error_line = \"Line %4d\" %...\n",
    "    py_file.write()\n",
    "'''"
   ]
  },
  {
   "cell_type": "markdown",
   "metadata": {},
   "source": [
    "# Creating File"
   ]
  },
  {
   "cell_type": "code",
   "execution_count": 7,
   "metadata": {},
   "outputs": [],
   "source": [
    "py_file = open(py_filename, \"w\")\n",
    "hoc_file = open(hoc_filename, \"r\")\n",
    "if error_log_filename == \"\":\n",
    "    error_log = open(py_filename[:-3] + \"_log.txt\", \"w\")\n",
    "else:\n",
    "    error_log = open(error_log_filename, \"w\")\n",
    "\n",
    "\n",
    "py_file.write(\"class CellObj(object):\\n\")\n",
    "\n",
    "#init\n",
    "py_init = \"\\tdef __init__(self):\\n\"\\\n",
    "    + \"\\t\\tself.x = self.y = self.z = 0\\n\"\\\n",
    "    + \"\\t\\tself.create_sections()\\n\"\\\n",
    "    + \"\\t\\tself.build_topology()\\n\"\\\n",
    "    + \"\\t\\tself.build_subsets()\\n\"\\\n",
    "    + \"\\t\\tself.define_geometry()\\n\"\\\n",
    "    + \"\\t\\tself.define_biophysics()\\n\"\\\n",
    "    + \"\\n\"\n",
    "\n",
    "py_file.write(py_init)\n",
    "    \n",
    "py_file.write(\"end\")\n",
    "\n",
    "hoc_file.close()\n",
    "py_file.close()\n",
    "error_log.close()"
   ]
  },
  {
   "cell_type": "code",
   "execution_count": null,
   "metadata": {},
   "outputs": [],
   "source": []
  },
  {
   "cell_type": "markdown",
   "metadata": {},
   "source": [
    "# Reading and Writing"
   ]
  },
  {
   "cell_type": "code",
   "execution_count": null,
   "metadata": {},
   "outputs": [],
   "source": []
  },
  {
   "cell_type": "markdown",
   "metadata": {},
   "source": [
    "# Notes"
   ]
  },
  {
   "cell_type": "markdown",
   "metadata": {},
   "source": [
    "proc => procedure => function definition\n",
    "    call write_function on \"proc\" detection\n",
    "\n",
    "all procedures listed in the beginning by\n",
    "    proc init() {}"
   ]
  }
 ],
 "metadata": {
  "kernelspec": {
   "display_name": "Python 3",
   "language": "python",
   "name": "python3"
  },
  "language_info": {
   "codemirror_mode": {
    "name": "ipython",
    "version": 3
   },
   "file_extension": ".py",
   "mimetype": "text/x-python",
   "name": "python",
   "nbconvert_exporter": "python",
   "pygments_lexer": "ipython3",
   "version": "3.7.9"
  }
 },
 "nbformat": 4,
 "nbformat_minor": 4
}
