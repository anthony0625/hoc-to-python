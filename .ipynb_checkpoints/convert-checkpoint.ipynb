{
 "cells": [
  {
   "cell_type": "markdown",
   "metadata": {},
   "source": [
    "from neuron import h\n",
    "soma = h.Section(name=\"soma\")\n",
    "h.psection()\n",
    "h.topology()"
   ]
  },
  {
   "cell_type": "markdown",
   "metadata": {},
   "source": [
    "fil = open(\"test.hoc\", \"r\")\n",
    "g = fil.readlines()\n",
    "fil.close()\n",
    "print(g)\n",
    "gn = []\n",
    "for s in range(len(g)):\n",
    "    gn.append(g[s].strip())\n",
    "print(gn)"
   ]
  },
  {
   "cell_type": "markdown",
   "metadata": {},
   "source": [
    "proc topol() {\n",
    "    hs\n",
    "}\n",
    "\n",
    "proc shape3d() {\n",
    "    hs\n",
    "}\n",
    "\n",
    "pt3dstyle(x,y,z,d)"
   ]
  },
  {
   "cell_type": "markdown",
   "metadata": {},
   "source": [
    "class cellObj(object):\n",
    "    def __init__(self):\n",
    "        hs\n",
    "    def create_sections(self):\n",
    "        hs\n",
    "    def build_topology(self):\n",
    "        hs\n",
    "    def define_geometry(self):\n",
    "        hs\n",
    "    def define_biophysics(self):\n",
    "        hs\n",
    "    def shape_3D(self):\n",
    "        hs\n",
    "    def set_position(self):\n",
    "        hs"
   ]
  },
  {
   "cell_type": "markdown",
   "metadata": {},
   "source": [
    "# Instructions"
   ]
  },
  {
   "cell_type": "markdown",
   "metadata": {},
   "source": [
    "Begin by filling out the parameters under \"Basics and Definitions\". Proceed to run all cells in order.\n",
    "\n",
    "**Warning**: Run the noteboook in full (all cells) to prevent memory leaks."
   ]
  },
  {
   "cell_type": "markdown",
   "metadata": {},
   "source": [
    "# Basics and Definitions"
   ]
  },
  {
   "cell_type": "code",
   "execution_count": null,
   "metadata": {},
   "outputs": [],
   "source": [
    "hoc_filename = \"test.hoc\"\n",
    "py_filename = \"hs.py\"\n",
    "error_log_filename = \"\" #default if left empty is py_filename_log.txt\n",
    "\n",
    "def ssearch(keyword, list):\n",
    "    for line in range(len(list)):\n",
    "        if element.startswith(keyword):\n",
    "            return line\n",
    "    return -1\n",
    "\n",
    "def ext_procedures(list):\n",
    "    '''\n",
    "    Finds the line of proc init() and pulls and appends elements linewise\n",
    "    until closing brace.\n",
    "    '''\n",
    "    procedures = []\n",
    "    current_line = list.index(\"proc init() {\")\n",
    "    while list[current_line] != \"}\":\n",
    "        procedures.append(list[current_line][2:-2])\n",
    "        current_line = current_line + 1\n",
    "    return procedures, first_line, last_line\n",
    "\n",
    "#pull public soma -> list of sections\n",
    "def ext_sections():\n",
    "    '''\n",
    "    hs\n",
    "    '''\n",
    "\n",
    "def write_function(function_name, content):\n",
    "    '''\n",
    "    Main function to convert hoc procedure to python definition casewise\n",
    "    '''\n",
    "    py_file.write(\"\\tdef \" + function_name + \"(self):\")\n",
    "    if function_name == \"topol\":\n",
    "        sections = [\"soma\", \"dend\", \"apic\", \"axon\"]\n",
    "        variables = {soma:0,axon:0...} #use dictionary here\n",
    "        for i in x:\n",
    "            py_file.write(\"\\t\\tself.soma\")\n",
    "    elif:\n",
    "        return 0\n",
    "\n",
    "\n",
    "def write_sections(list):\n",
    "    '''\n",
    "    Returns a dictionary of the sections and their respective counts\n",
    "    '''\n",
    "    sections = {\"soma\":0, \"dend\":0, \"apic\":0, \"axon\":0}\n",
    "    current_line_str = list[ssearch(\"create\", list)]\n",
    "    #look for commas, no commas implies last\n",
    "    \n",
    "    #index of first letter of current section\n",
    "    current_section = 7\n",
    "    current_section_name = current_line_str[current_section:current_section+4]\n",
    "    while:#??????\n",
    "        if current_line_str[current_section + 4] == \"[\":\n",
    "            section_count_end = current_line_str.find(\"]\", current_section)\n",
    "            #count = \n",
    "            sections[current_section_name] = \\\n",
    "                int(current_line_str[current_section:section_count_end])\n",
    "        else:\n",
    "            sections[current_section_name] = 1\n",
    "            hs\n",
    "        if current_line_str.find(\",\") == -1:\n",
    "            return sections\n",
    "    \n",
    "    \n",
    "def write_topology():\n",
    "    hs\n",
    "    \n",
    "def write_error():\n",
    "    error_line = \"Line %4d\" %...\n",
    "    py_file.write()\n"
   ]
  },
  {
   "cell_type": "raw",
   "metadata": {},
   "source": [
    "# Creating File"
   ]
  },
  {
   "cell_type": "code",
   "execution_count": null,
   "metadata": {},
   "outputs": [],
   "source": [
    "py_file = open(py_filename, \"w\")\n",
    "hoc_file = open(hoc_filename, \"r\")\n",
    "if error_log_filename == \"\":\n",
    "    error_log = open(py_filename[:-3] + \"_log.txt\", \"w\")\n",
    "else:\n",
    "    error_log = open(error_log_filename, \"w\")\n",
    "\n",
    "py_file_list = py_file.readlines()\n",
    "    \n",
    "py_file.write(\"class CellObj(object):\\n\")\n",
    "\n",
    "'''\n",
    "init\n",
    "py_init = \"\\tdef __init__(self):\\n\"\\\n",
    "    + \"\\t\\tself.x = self.y = self.z = 0\\n\"\\\n",
    "    + \"\\t\\tself.create_sections()\\n\"\\\n",
    "    + \"\\t\\tself.build_topology()\\n\"\\\n",
    "    + \"\\t\\tself.build_subsets()\\n\"\\\n",
    "    + \"\\t\\tself.define_geometry()\\n\"\\\n",
    "    + \"\\t\\tself.define_biophysics()\\n\"\\\n",
    "    + \"\\n\"\n",
    "'''\n",
    "\n",
    "py_file.write(py_init)\n",
    "    \n",
    "py_file.write(\"end\")\n",
    "\n",
    "hoc_file.close()\n",
    "py_file.close()\n",
    "error_log.close()"
   ]
  },
  {
   "cell_type": "code",
   "execution_count": null,
   "metadata": {},
   "outputs": [],
   "source": []
  },
  {
   "cell_type": "markdown",
   "metadata": {},
   "source": [
    "# Reading and Writing"
   ]
  },
  {
   "cell_type": "code",
   "execution_count": null,
   "metadata": {
    "scrolled": false
   },
   "outputs": [],
   "source": [
    "memtest = open(\"test2.hoc\", \"r\")\n",
    "memtestarr = memtest.readlines()\n",
    "print(memtestarr[:-1])\n",
    "memtest.close()"
   ]
  },
  {
   "cell_type": "code",
   "execution_count": null,
   "metadata": {},
   "outputs": [],
   "source": [
    "for i in range(1):\n",
    "    print(i)\n",
    "print(\"hs\")\n",
    "for i in range(0):\n",
    "    print(i)"
   ]
  },
  {
   "cell_type": "code",
   "execution_count": null,
   "metadata": {},
   "outputs": [],
   "source": [
    "def testfunction():\n",
    "    return 1, [1,2,3], \"abc\"\n",
    "testfunc1, testfunc2, testfunc3 = testfunction()\n",
    "print(testfunc2)\n",
    "print(testfunc1)\n",
    "print(testfunc3)"
   ]
  },
  {
   "cell_type": "code",
   "execution_count": null,
   "metadata": {},
   "outputs": [],
   "source": [
    "testdictionary = {\"testa\":0,\"testb\":0,\"testc\":1}\n",
    "testdictionary[\"testc\"] = 2\n",
    "print(testdictionary[\"testc\"])"
   ]
  },
  {
   "cell_type": "code",
   "execution_count": null,
   "metadata": {},
   "outputs": [],
   "source": []
  },
  {
   "cell_type": "markdown",
   "metadata": {},
   "source": [
    "# Notes"
   ]
  },
  {
   "cell_type": "markdown",
   "metadata": {},
   "source": [
    "proc => procedure => function definition\n",
    "    call write_function on \"proc\" detection\n",
    "\n",
    "all procedures listed in the beginning by\n",
    "    proc init() {}"
   ]
  }
 ],
 "metadata": {
  "kernelspec": {
   "display_name": "Python 3",
   "language": "python",
   "name": "python3"
  },
  "language_info": {
   "codemirror_mode": {
    "name": "ipython",
    "version": 3
   },
   "file_extension": ".py",
   "mimetype": "text/x-python",
   "name": "python",
   "nbconvert_exporter": "python",
   "pygments_lexer": "ipython3",
   "version": "3.7.9"
  }
 },
 "nbformat": 4,
 "nbformat_minor": 4
}
