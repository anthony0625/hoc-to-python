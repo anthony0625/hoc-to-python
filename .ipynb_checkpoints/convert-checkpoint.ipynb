{
 "cells": [
  {
   "cell_type": "markdown",
   "metadata": {},
   "source": [
    "from neuron import h\n",
    "soma = h.Section(name=\"soma\")\n",
    "h.psection()\n",
    "h.topology()"
   ]
  },
  {
   "cell_type": "markdown",
   "metadata": {},
   "source": [
    "fil = open(\"test.hoc\", \"r\")\n",
    "g = fil.readlines()\n",
    "fil.close()\n",
    "print(g)\n",
    "gn = []\n",
    "for s in range(len(g)):\n",
    "    gn.append(g[s].strip())\n",
    "print(gn)"
   ]
  },
  {
   "cell_type": "markdown",
   "metadata": {},
   "source": [
    "proc topol() {\n",
    "    hs\n",
    "}\n",
    "\n",
    "proc shape3d() {\n",
    "    hs\n",
    "}\n",
    "\n",
    "pt3dstyle(x,y,z,d)"
   ]
  },
  {
   "cell_type": "code",
   "execution_count": null,
   "metadata": {},
   "outputs": [],
   "source": []
  }
 ],
 "metadata": {
  "kernelspec": {
   "display_name": "Python 3",
   "language": "python",
   "name": "python3"
  },
  "language_info": {
   "codemirror_mode": {
    "name": "ipython",
    "version": 3
   },
   "file_extension": ".py",
   "mimetype": "text/x-python",
   "name": "python",
   "nbconvert_exporter": "python",
   "pygments_lexer": "ipython3",
   "version": "3.7.9"
  }
 },
 "nbformat": 4,
 "nbformat_minor": 4
}
